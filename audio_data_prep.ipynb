{
 "cells": [
  {
   "cell_type": "code",
   "execution_count": 1,
   "metadata": {},
   "outputs": [],
   "source": [
    "import os\n",
    "import numpy as np\n",
    "import librosa\n",
    "from sklearn.preprocessing import StandardScaler\n",
    "from sklearn.model_selection import train_test_split"
   ]
  },
  {
   "cell_type": "code",
   "execution_count": 2,
   "metadata": {},
   "outputs": [],
   "source": [
    "SAMPLE_RATE = 22050\n",
    "SEGMENT_DURATION = 5  # in seconds\n",
    "N_MFCC = 20\n",
    "ACCEPTED_FORMATS = [\"wav\", \"WAV\"]"
   ]
  },
  {
   "cell_type": "code",
   "execution_count": 3,
   "metadata": {},
   "outputs": [],
   "source": [
    "def get_data(data_path):\n",
    "    data = {\"mappings\": [], \"images\": [], \"labels\": []}\n",
    "\n",
    "    segment_length = SAMPLE_RATE * SEGMENT_DURATION\n",
    "\n",
    "    for label_index, label_name in enumerate(os.listdir(data_path)):\n",
    "        label_path = os.path.join(data_path, label_name)\n",
    "\n",
    "        if os.path.isdir(label_path) is not True:\n",
    "            continue\n",
    "\n",
    "        print(f\"[+] Currently processing {label_name} label\")\n",
    "\n",
    "        for audio_name in os.listdir(label_path):\n",
    "            audio_path = os.path.join(label_path, audio_name)\n",
    "\n",
    "            if audio_name.split(\".\")[-1] not in ACCEPTED_FORMATS:\n",
    "                continue\n",
    "\n",
    "            try:\n",
    "                audio, _ = librosa.load(audio_path, sr=SAMPLE_RATE)\n",
    "            except Exception as e:\n",
    "                print(f\"\\t[-] Audio {audio_path} is invalid!\")\n",
    "\n",
    "            no_segements_in_audio = len(audio) // segment_length\n",
    "            mfcc_list = []\n",
    "\n",
    "            for segment_count in range(no_segements_in_audio):\n",
    "                start = segment_count * segment_length\n",
    "                end = start + segment_length\n",
    "\n",
    "                audio_segment = audio[start:end]\n",
    "\n",
    "                mfcc = librosa.feature.mfcc(\n",
    "                    y=audio_segment, sr=SAMPLE_RATE, n_mfcc=N_MFCC\n",
    "                )\n",
    "\n",
    "                mfcc_list.append(mfcc.tolist())\n",
    "\n",
    "            data[\"images\"].extend(mfcc_list)\n",
    "            data[\"labels\"].extend([label_index] * len(mfcc_list))\n",
    "\n",
    "    return data"
   ]
  },
  {
   "cell_type": "code",
   "execution_count": 70,
   "metadata": {},
   "outputs": [],
   "source": [
    "def get_train_test_sequential_data(\n",
    "    data, train_size=0.8, normalize=True, return_ss_instance=True\n",
    "):\n",
    "\n",
    "    images = np.array(data[\"images\"], dtype=np.float16)\n",
    "\n",
    "    labels = np.array(data[\"labels\"], dtype=np.float16)\n",
    "\n",
    "\n",
    "    train_images = []\n",
    "    test_images = []\n",
    "    train_labels = []\n",
    "    test_labels = []\n",
    "\n",
    "    for label_name, label_count in zip(*np.unique(labels, return_counts=True)):\n",
    "        positions = np.where(labels == label_name)[0]\n",
    "        split_index = int(label_count * train_size)\n",
    "\n",
    "        train_positions = positions[:split_index]\n",
    "        test_positions = positions[split_index:]\n",
    "\n",
    "        train_images.extend(images[train_positions].tolist())\n",
    "        test_images.extend(images[test_positions].tolist())\n",
    "\n",
    "        train_labels.extend(labels[train_positions].tolist())\n",
    "        test_labels.extend(labels[test_positions].tolist())\n",
    "\n",
    "    train_images = np.array(train_images, dtype=np.float16)\n",
    "    test_images = np.array(test_images, dtype=np.float16)\n",
    "    train_labels = np.array(train_labels, dtype=np.float16)\n",
    "    test_labels = np.array(test_labels, dtype=np.float16)\n",
    "\n",
    "\n",
    "    train_images_shape = train_images.shape\n",
    "\n",
    "    test_images_shape = test_images.shape\n",
    "\n",
    "\n",
    "    if normalize is True:\n",
    "\n",
    "        ss = StandardScaler()\n",
    "\n",
    "        train_images = ss.fit_transform(\n",
    "\n",
    "            train_images.reshape(\n",
    "\n",
    "                train_images_shape[0], train_images_shape[1] * train_images_shape[2]\n",
    "            )\n",
    "        )\n",
    "\n",
    "        test_images = ss.transform(\n",
    "\n",
    "            test_images.reshape(\n",
    "\n",
    "                test_images_shape[0], test_images_shape[1] * test_images_shape[2]\n",
    "            )\n",
    "        )\n",
    "\n",
    "\n",
    "        train_images = train_images.reshape(train_images_shape)\n",
    "\n",
    "        test_images = test_images.reshape(test_images_shape)\n",
    "\n",
    "\n",
    "    if return_ss_instance is True:\n",
    "        return (train_images, test_images, train_labels, test_labels, ss)\n",
    "\n",
    "    return (train_images, test_images, train_labels, test_labels)"
   ]
  },
  {
   "cell_type": "code",
   "execution_count": 51,
   "metadata": {},
   "outputs": [],
   "source": [
    "def get_train_test_with_random_shuffle(data, train_size=0.8, normalize=True):\n",
    "    images = np.array(data[\"images\"], dtype=np.float16)\n",
    "    labels = np.array(data[\"labels\"], dtype=np.float16)\n",
    "\n",
    "    train_images, test_images, train_labels, test_labels = train_test_split(\n",
    "        images, labels, train_size=train_size, stratify=labels, shuffle=True\n",
    "    )\n",
    "\n",
    "    train_images_shape = train_images.shape\n",
    "    test_images_shape = test_images.shape\n",
    "\n",
    "    if normalize is True:\n",
    "        ss = StandardScaler()\n",
    "        train_images = ss.fit_transform(\n",
    "            train_images.reshape(\n",
    "                train_images_shape[0], train_images_shape[1] * train_images_shape[2]\n",
    "            )\n",
    "        )\n",
    "        test_images = ss.transform(\n",
    "            test_images.reshape(\n",
    "                test_images_shape[0], test_images_shape[1] * test_images_shape[2]\n",
    "            )\n",
    "        )\n",
    "\n",
    "        train_images = train_images.reshape(train_images_shape)\n",
    "        test_images = test_images.reshape(test_images_shape)\n",
    "\n",
    "    return (train_images, test_images, train_labels, test_labels)"
   ]
  },
  {
   "cell_type": "markdown",
   "metadata": {},
   "source": [
    "Example using GTZAN Dataset\n"
   ]
  },
  {
   "cell_type": "code",
   "execution_count": 52,
   "metadata": {},
   "outputs": [],
   "source": [
    "data = get_data(\n",
    "    r\"C:\\Users\\zuraj\\OneDrive\\Desktop\\Audio Processing\\Data\\GTZAN Dataset(Music Genre Classification)\\Data\\genres_original\"\n",
    ")"
   ]
  },
  {
   "cell_type": "code",
   "execution_count": 53,
   "metadata": {},
   "outputs": [],
   "source": [
    "X_train, X_test, y_train, y_test, ss = get_train_test_sequential_data(data)"
   ]
  },
  {
   "cell_type": "code",
   "execution_count": 54,
   "metadata": {},
   "outputs": [
    {
     "data": {
      "text/plain": [
       "(4791, 20, 216)"
      ]
     },
     "execution_count": 54,
     "metadata": {},
     "output_type": "execute_result"
    }
   ],
   "source": [
    "X_train.shape"
   ]
  },
  {
   "cell_type": "code",
   "execution_count": 55,
   "metadata": {},
   "outputs": [
    {
     "data": {
      "text/plain": [
       "(1200, 20, 216)"
      ]
     },
     "execution_count": 55,
     "metadata": {},
     "output_type": "execute_result"
    }
   ],
   "source": [
    "X_test.shape"
   ]
  },
  {
   "cell_type": "code",
   "execution_count": 56,
   "metadata": {},
   "outputs": [
    {
     "data": {
      "text/plain": [
       "(1200,)"
      ]
     },
     "execution_count": 56,
     "metadata": {},
     "output_type": "execute_result"
    }
   ],
   "source": [
    "y_test.shape"
   ]
  },
  {
   "cell_type": "code",
   "execution_count": 57,
   "metadata": {},
   "outputs": [
    {
     "data": {
      "text/plain": [
       "(4791,)"
      ]
     },
     "execution_count": 57,
     "metadata": {},
     "output_type": "execute_result"
    }
   ],
   "source": [
    "y_train.shape"
   ]
  },
  {
   "cell_type": "code",
   "execution_count": 67,
   "metadata": {},
   "outputs": [
    {
     "data": {
      "text/plain": [
       "<matplotlib.collections.QuadMesh at 0x24098b35b10>"
      ]
     },
     "execution_count": 67,
     "metadata": {},
     "output_type": "execute_result"
    },
    {
     "data": {
      "image/png": "[encoded data removed]",
      "text/plain": [
       "<Figure size 640x480 with 1 Axes>"
      ]
     },
     "metadata": {},
     "output_type": "display_data"
    }
   ],
   "source": [
    "librosa.display.specshow(np.array(data[\"images\"][1]))"
   ]
  },
  {
   "cell_type": "code",
   "execution_count": 69,
   "metadata": {},
   "outputs": [
    {
     "data": {
      "text/plain": [
       "<matplotlib.collections.QuadMesh at 0x240b6415910>"
      ]
     },
     "execution_count": 69,
     "metadata": {},
     "output_type": "execute_result"
    },
    {
     "data": {
      "image/png": "[encoded data removed]",
      "text/plain": [
       "<Figure size 640x480 with 1 Axes>"
      ]
     },
     "metadata": {},
     "output_type": "display_data"
    }
   ],
   "source": [
    "librosa.display.specshow(\n",
    "    ss.transform(np.array(data[\"images\"][1]).reshape(1, 4320)).reshape(20, 216)\n",
    ")"
   ]
  },
  {
   "cell_type": "code",
   "execution_count": null,
   "metadata": {},
   "outputs": [],
   "source": []
  }
 ],
 "metadata": {
  "kernelspec": {
   "display_name": "AudioProcessing",
   "language": "python",
   "name": "python3"
  },
  "language_info": {
   "codemirror_mode": {
    "name": "ipython",
    "version": 3
   },
   "file_extension": ".py",
   "mimetype": "text/x-python",
   "name": "python",
   "nbconvert_exporter": "python",
   "pygments_lexer": "ipython3",
   "version": "3.11.5"
  }
 },
 "nbformat": 4,
 "nbformat_minor": 2
}
